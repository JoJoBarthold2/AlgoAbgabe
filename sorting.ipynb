{
 "cells": [
  {
   "cell_type": "markdown",
   "metadata": {},
   "source": [
    "# Notebook zu Blatt 8"
   ]
  },
  {
   "cell_type": "code",
   "execution_count": 18,
   "metadata": {},
   "outputs": [
    {
     "name": "stdout",
     "output_type": "stream",
     "text": [
      "Requirement already satisfied: numpy in c:\\users\\valen\\pycharmprojects\\algoabgabe\\venv\\lib\\site-packages (1.23.5)\n",
      "Requirement already satisfied: seaborn in c:\\users\\valen\\pycharmprojects\\algoabgabe\\venv\\lib\\site-packages (0.12.1)\n",
      "Requirement already satisfied: matplotlib!=3.6.1,>=3.1 in c:\\users\\valen\\pycharmprojects\\algoabgabe\\venv\\lib\\site-packages (from seaborn) (3.6.2)\n",
      "Requirement already satisfied: pandas>=0.25 in c:\\users\\valen\\pycharmprojects\\algoabgabe\\venv\\lib\\site-packages (from seaborn) (1.5.2)\n",
      "Requirement already satisfied: packaging>=20.0 in c:\\users\\valen\\pycharmprojects\\algoabgabe\\venv\\lib\\site-packages (from matplotlib!=3.6.1,>=3.1->seaborn) (22.0)\n",
      "Requirement already satisfied: contourpy>=1.0.1 in c:\\users\\valen\\pycharmprojects\\algoabgabe\\venv\\lib\\site-packages (from matplotlib!=3.6.1,>=3.1->seaborn) (1.0.6)\n",
      "Requirement already satisfied: cycler>=0.10 in c:\\users\\valen\\pycharmprojects\\algoabgabe\\venv\\lib\\site-packages (from matplotlib!=3.6.1,>=3.1->seaborn) (0.11.0)\n",
      "Requirement already satisfied: fonttools>=4.22.0 in c:\\users\\valen\\pycharmprojects\\algoabgabe\\venv\\lib\\site-packages (from matplotlib!=3.6.1,>=3.1->seaborn) (4.38.0)\n",
      "Requirement already satisfied: kiwisolver>=1.0.1 in c:\\users\\valen\\pycharmprojects\\algoabgabe\\venv\\lib\\site-packages (from matplotlib!=3.6.1,>=3.1->seaborn) (1.4.4)\n",
      "Requirement already satisfied: python-dateutil>=2.7 in c:\\users\\valen\\pycharmprojects\\algoabgabe\\venv\\lib\\site-packages (from matplotlib!=3.6.1,>=3.1->seaborn) (2.8.2)\n",
      "Requirement already satisfied: pyparsing>=2.2.1 in c:\\users\\valen\\pycharmprojects\\algoabgabe\\venv\\lib\\site-packages (from matplotlib!=3.6.1,>=3.1->seaborn) (3.0.9)\n",
      "Requirement already satisfied: pillow>=6.2.0 in c:\\users\\valen\\pycharmprojects\\algoabgabe\\venv\\lib\\site-packages (from matplotlib!=3.6.1,>=3.1->seaborn) (9.3.0)\n",
      "Requirement already satisfied: pytz>=2020.1 in c:\\users\\valen\\pycharmprojects\\algoabgabe\\venv\\lib\\site-packages (from pandas>=0.25->seaborn) (2022.6)\n",
      "Requirement already satisfied: six>=1.5 in c:\\users\\valen\\pycharmprojects\\algoabgabe\\venv\\lib\\site-packages (from python-dateutil>=2.7->matplotlib!=3.6.1,>=3.1->seaborn) (1.16.0)\n"
     ]
    },
    {
     "name": "stderr",
     "output_type": "stream",
     "text": [
      "WARNING: You are using pip version 21.3.1; however, version 22.3.1 is available.\n",
      "You should consider upgrading via the 'C:\\Users\\valen\\PycharmProjects\\AlgoAbgabe\\venv\\Scripts\\python.exe -m pip install --upgrade pip' command.\n"
     ]
    }
   ],
   "source": [
    "import numpy\n",
    "!pip install numpy seaborn"
   ]
  },
  {
   "cell_type": "code",
   "execution_count": 19,
   "metadata": {},
   "outputs": [],
   "source": [
    "import numpy as np      # um zufÃ¤llige arrays zu generieren\n",
    "import time   # zur zeitmessung\n",
    "import random # für die Auswahl des Pivot-Elements\n",
    "import seaborn as sns   # zum plotten"
   ]
  },
  {
   "cell_type": "markdown",
   "metadata": {},
   "source": [
    "####  1. Implementieren Sie Selection Sort und Quicksort in Python"
   ]
  },
  {
   "cell_type": "code",
   "execution_count": 20,
   "metadata": {},
   "outputs": [],
   "source": [
    "def selectionSort(array):\n",
    "\n",
    "    result= []\n",
    "    while array:\n",
    "        min = np.Infinity\n",
    "        for elem in array:\n",
    "            if elem < min:\n",
    "                min = elem\n",
    "        array.remove(min)\n",
    "\n",
    "        result.append(min)\n",
    "    return result\n",
    "\n",
    "\n",
    "\n",
    "\n",
    "#hallo"
   ]
  },
  {
   "cell_type": "code",
   "execution_count": 21,
   "metadata": {
    "tags": []
   },
   "outputs": [
    {
     "name": "stdout",
     "output_type": "stream",
     "text": [
      "[1, 5, 7, 8]\n"
     ]
    }
   ],
   "source": [
    "array = [7,5,8,1] \n",
    "array =selectionSort(array)\n",
    "print(array) # das sortierte array"
   ]
  },
  {
   "cell_type": "code",
   "execution_count": 22,
   "metadata": {},
   "outputs": [],
   "source": [
    "def quickSort(array):\n",
    "    smaller=[]\n",
    "    equal=[]\n",
    "    greater = []\n",
    "    if len(array) > 1:\n",
    "        pivot = random.choice(array)\n",
    "        for a in array:\n",
    "            if a < pivot:\n",
    "                smaller.append(a)\n",
    "            elif a == pivot:\n",
    "                equal.append(a)\n",
    "            elif a > pivot:\n",
    "                greater.append(a)\n",
    "        return quickSort(smaller)+equal+quickSort(greater)\n",
    "    else:\n",
    "        return array"
   ]
  },
  {
   "cell_type": "code",
   "execution_count": 23,
   "metadata": {},
   "outputs": [
    {
     "name": "stdout",
     "output_type": "stream",
     "text": [
      "[1, 5, 7, 8]\n"
     ]
    }
   ],
   "source": [
    "array = [7,5,8,1] \n",
    "array = quickSort(array)\n",
    "print(array) # das sortierte array\n",
    "# Zu Aufgabe 2:\n",
    "# Die Laufzeit des Algorithmus ist unter anderem auch abhängig durch die Wahl des Pivot-Elements. Durch\n",
    "# dieses wird in jedem Rekursionsschritt die zu sortierende Liste aufgeteilt. Um einen besonders schnellen\n",
    "# Algorithmus zu haben möchte man, dass in jedem Rekursionsschritt die gegebene Liste in möglichst gleich\n",
    "# große größer/kleiner Sublisten aufgeteilt wird, damit man insgesamt weniger Rekursionsschritte hat.\n",
    "# Dafür ist alleine das Pivot-Element verantwortlich.\n",
    "# Bie dieser Implementierung wird ein zufälliges Element der gegebenen Liste immer als\n",
    "# Pivot-Element gewählt.\n",
    "#Zu Aufgabe 3:\n",
    "# QuickSort-Worst-Case:\n",
    "# Dadurch, dass das Pivot-Element zufällig gewählt wird gibt ist die einzige worst case\n",
    "# Eingabe jene, die sich in jedem Element unterscheidet und somit immer nur ein Element in\n",
    "# der equal-Liste pro Rekursion landet.\n",
    "# SelectionSort:\n",
    "# Die Worst-case Eingabe ist eine genau falschrum sortierte Liste. Da dort immer durch die\n",
    "# ganze Liste gegangen werden muss um ein Element zu finden welches in die result liste\n",
    "# eingefügt werden kann."
   ]
  },
  {
   "cell_type": "markdown",
   "metadata": {},
   "source": [
    "#### 4. Testen Sie die Korrektheit Ihrer Implementierungen anhand von verschiedenen TestfÃ¤llen"
   ]
  },
  {
   "cell_type": "code",
   "execution_count": 28,
   "metadata": {},
   "outputs": [
    {
     "name": "stdout",
     "output_type": "stream",
     "text": [
      "[1, 1, 1, 1, 1, 1, 1, 1]\n",
      "[]\n"
     ]
    },
    {
     "ename": "AssertionError",
     "evalue": "",
     "output_type": "error",
     "traceback": [
      "\u001B[1;31m---------------------------------------------------------------------------\u001B[0m",
      "\u001B[1;31mAssertionError\u001B[0m                            Traceback (most recent call last)",
      "Cell \u001B[1;32mIn[28], line 10\u001B[0m\n\u001B[0;32m      8\u001B[0m \u001B[38;5;28;01massert\u001B[39;00m selectionSort(test2) \u001B[38;5;241m==\u001B[39m solution2\n\u001B[0;32m      9\u001B[0m \u001B[38;5;28mprint\u001B[39m(quickSort(test2))\n\u001B[1;32m---> 10\u001B[0m \u001B[38;5;28;01massert\u001B[39;00m quickSort(test2) \u001B[38;5;241m==\u001B[39m solution2\n\u001B[0;32m     12\u001B[0m \u001B[38;5;28;01massert\u001B[39;00m selectionSort(solution2) \u001B[38;5;241m==\u001B[39m solution2\n\u001B[0;32m     13\u001B[0m \u001B[38;5;28;01massert\u001B[39;00m quickSort(solution2) \u001B[38;5;241m==\u001B[39m solution2\n",
      "\u001B[1;31mAssertionError\u001B[0m: "
     ]
    }
   ],
   "source": [
    "# Hier kommen die TestfÃ¤lle!\n",
    "test1 = [1,1,1,1,1,1,1,1] # hier darf sich nichts verändern\n",
    "assert quickSort(test1) == test1\n",
    "print(selectionSort(test1))\n",
    "assert selectionSort(test1) == test1\n",
    "test2 = [9,8,7,6,5,4,3,2,1] #das ist der Worst-Case für Selection sort und gleichzeitig auch für Quicksort, da alle Elemente voneinander verschieden sind\n",
    "solution2 = [1,2,3,4,5,6,7,8,9] #hier darf sich auch an der reihenfolge nichts ändern\n",
    "assert selectionSort(test2) == solution2\n",
    "print(quickSort(test2))\n",
    "assert quickSort(test2) == solution2\n",
    "\n",
    "assert selectionSort(solution2) == solution2\n",
    "assert quickSort(solution2) == solution2\n",
    "\n",
    "test3 = [] #ein leeres Array sollte auch ein leeres Array zurückgeben\n",
    "assert selectionSort(test3) == test3\n",
    "assert quickSort(test3) == test3\n",
    "\n"
   ]
  },
  {
   "cell_type": "markdown",
   "metadata": {},
   "source": [
    "#### 5. Messen Sie die Laufzeit der beiden Sortieralgorithmen auf Ihrem Rechner."
   ]
  },
  {
   "cell_type": "code",
   "execution_count": null,
   "metadata": {
    "tags": []
   },
   "outputs": [],
   "source": [
    "s_times, q_times = [], []\n",
    "arrar_sizes =  [10, 100, 500, 1000, 1500, 2000, 2500, 3000, 5000, 7500, 10000] # messung fÃ¼r verschiedenen array-lÃ¤ngen\n",
    "for size in arrar_sizes:\n",
    "    # ziehe ein zufÃ¤lliges array\n",
    "    np.random.seed(0)\n",
    "    array = np.random.randint(low=0, high=1000000, size=size) \n",
    "    start = time.time()\n",
    "    # hier sortieren mit selection sort - wie geht das?\n",
    "    end = time.time()\n",
    "    s_times.append(end-start) # die zeit in sekunden\n",
    "\n",
    "    # und dann jetzt noch fÃ¼r quicksort :)"
   ]
  },
  {
   "cell_type": "markdown",
   "metadata": {},
   "source": [
    "#### 6. Erstellen Sie einen geeignent Plot, der die Laufzeit der beiden Algorithmen in AbhÃ¤ngigkeit von der EingabelÃ¤nge darstellt"
   ]
  },
  {
   "cell_type": "code",
   "execution_count": null,
   "metadata": {},
   "outputs": [],
   "source": [
    "# Hier kommet der Plot!"
   ]
  },
  {
   "cell_type": "markdown",
   "metadata": {
    "tags": []
   },
   "source": [
    "#### 7. Erstellen Sie fÃ¼r die beiden Sortieralgorithmen jeweils einen Plot, in dem gemessene Laufzeit durch die entsprechende asymptotische Laufzeitentwicklung approximiert wird."
   ]
  },
  {
   "cell_type": "code",
   "execution_count": null,
   "metadata": {},
   "outputs": [],
   "source": [
    "# Hier kommen die Plots!"
   ]
  },
  {
   "cell_type": "markdown",
   "metadata": {},
   "source": [
    "#### 8. Vergleichen Sie die Laufzeit ihrer effizienten Implementierungen mit der Laufzeit der nativen sort() Funktion fÃ¼r Listen in Python"
   ]
  },
  {
   "cell_type": "code",
   "execution_count": null,
   "metadata": {},
   "outputs": [],
   "source": [
    "# Hier kommt eure Laufzeitanalyse!"
   ]
  }
 ],
 "metadata": {
  "kernelspec": {
   "display_name": "Python 3 (ipykernel)",
   "language": "python",
   "name": "python3"
  },
  "language_info": {
   "codemirror_mode": {
    "name": "ipython",
    "version": 3
   },
   "file_extension": ".py",
   "mimetype": "text/x-python",
   "name": "python",
   "nbconvert_exporter": "python",
   "pygments_lexer": "ipython3",
   "version": "3.9.13"
  }
 },
 "nbformat": 4,
 "nbformat_minor": 4
}
