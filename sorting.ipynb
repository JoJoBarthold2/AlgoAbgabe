{
 "cells": [
  {
   "cell_type": "markdown",
   "metadata": {},
   "source": [
    "# Notebook zu Blatt 8"
   ]
  },
  {
   "cell_type": "code",
   "execution_count": 3,
   "metadata": {},
   "outputs": [
    {
     "name": "stdout",
     "output_type": "stream",
     "text": [
      "Requirement already satisfied: numpy in c:\\users\\valen\\pycharmprojects\\algoabgabe\\venv\\lib\\site-packages (1.23.5)\n",
      "Requirement already satisfied: seaborn in c:\\users\\valen\\pycharmprojects\\algoabgabe\\venv\\lib\\site-packages (0.12.1)\n",
      "Requirement already satisfied: matplotlib!=3.6.1,>=3.1 in c:\\users\\valen\\pycharmprojects\\algoabgabe\\venv\\lib\\site-packages (from seaborn) (3.6.2)\n",
      "Requirement already satisfied: pandas>=0.25 in c:\\users\\valen\\pycharmprojects\\algoabgabe\\venv\\lib\\site-packages (from seaborn) (1.5.2)\n",
      "Requirement already satisfied: kiwisolver>=1.0.1 in c:\\users\\valen\\pycharmprojects\\algoabgabe\\venv\\lib\\site-packages (from matplotlib!=3.6.1,>=3.1->seaborn) (1.4.4)\n",
      "Requirement already satisfied: fonttools>=4.22.0 in c:\\users\\valen\\pycharmprojects\\algoabgabe\\venv\\lib\\site-packages (from matplotlib!=3.6.1,>=3.1->seaborn) (4.38.0)\n",
      "Requirement already satisfied: packaging>=20.0 in c:\\users\\valen\\pycharmprojects\\algoabgabe\\venv\\lib\\site-packages (from matplotlib!=3.6.1,>=3.1->seaborn) (22.0)\n",
      "Requirement already satisfied: cycler>=0.10 in c:\\users\\valen\\pycharmprojects\\algoabgabe\\venv\\lib\\site-packages (from matplotlib!=3.6.1,>=3.1->seaborn) (0.11.0)\n",
      "Requirement already satisfied: pillow>=6.2.0 in c:\\users\\valen\\pycharmprojects\\algoabgabe\\venv\\lib\\site-packages (from matplotlib!=3.6.1,>=3.1->seaborn) (9.3.0)\n",
      "Requirement already satisfied: contourpy>=1.0.1 in c:\\users\\valen\\pycharmprojects\\algoabgabe\\venv\\lib\\site-packages (from matplotlib!=3.6.1,>=3.1->seaborn) (1.0.6)\n",
      "Requirement already satisfied: pyparsing>=2.2.1 in c:\\users\\valen\\pycharmprojects\\algoabgabe\\venv\\lib\\site-packages (from matplotlib!=3.6.1,>=3.1->seaborn) (3.0.9)\n",
      "Requirement already satisfied: python-dateutil>=2.7 in c:\\users\\valen\\pycharmprojects\\algoabgabe\\venv\\lib\\site-packages (from matplotlib!=3.6.1,>=3.1->seaborn) (2.8.2)\n",
      "Requirement already satisfied: pytz>=2020.1 in c:\\users\\valen\\pycharmprojects\\algoabgabe\\venv\\lib\\site-packages (from pandas>=0.25->seaborn) (2022.6)\n",
      "Requirement already satisfied: six>=1.5 in c:\\users\\valen\\pycharmprojects\\algoabgabe\\venv\\lib\\site-packages (from python-dateutil>=2.7->matplotlib!=3.6.1,>=3.1->seaborn) (1.16.0)\n"
     ]
    },
    {
     "name": "stderr",
     "output_type": "stream",
     "text": [
      "WARNING: You are using pip version 21.3.1; however, version 22.3.1 is available.\n",
      "You should consider upgrading via the 'C:\\Users\\valen\\PycharmProjects\\AlgoAbgabe\\venv\\Scripts\\python.exe -m pip install --upgrade pip' command.\n"
     ]
    }
   ],
   "source": [
    "import math\n",
    "\n",
    "import numpy\n",
    "!pip install numpy seaborn"
   ]
  },
  {
   "cell_type": "code",
   "execution_count": 4,
   "metadata": {},
   "outputs": [],
   "source": [
    "import numpy as np      # um zufÃ¤llige arrays zu generieren\n",
    "import time   # zur zeitmessung\n",
    "import random # für die Auswahl des Pivot-Elements\n",
    "import seaborn as sns   # zum plotten"
   ]
  },
  {
   "cell_type": "markdown",
   "metadata": {},
   "source": [
    "####  1. Implementieren Sie Selection Sort und Quicksort in Python"
   ]
  },
  {
   "cell_type": "code",
   "execution_count": 5,
   "metadata": {},
   "outputs": [],
   "source": [
    "def selectionSort(array):\n",
    "    array = array.copy()\n",
    "    result= []\n",
    "    while array:\n",
    "        min = np.Infinity\n",
    "        for elem in array:\n",
    "            if elem < min:\n",
    "                min = elem\n",
    "        array.remove(min)\n",
    "\n",
    "        result.append(min)\n",
    "    return result\n",
    "\n",
    "\n",
    "\n",
    "\n",
    "#hallo"
   ]
  },
  {
   "cell_type": "code",
   "execution_count": 6,
   "metadata": {
    "tags": []
   },
   "outputs": [
    {
     "name": "stdout",
     "output_type": "stream",
     "text": [
      "[1, 5, 7, 8]\n"
     ]
    }
   ],
   "source": [
    "array = [7,5,8,1] \n",
    "array =selectionSort(array)\n",
    "print(array) # das sortierte array"
   ]
  },
  {
   "cell_type": "code",
   "execution_count": 7,
   "metadata": {},
   "outputs": [],
   "source": [
    "def quickSort(array):\n",
    "    smaller=[]\n",
    "    equal=[]\n",
    "    greater = []\n",
    "    if len(array) > 1:\n",
    "        pivot = random.choice(array)\n",
    "        for a in array:\n",
    "            if a < pivot:\n",
    "                smaller.append(a)\n",
    "            elif a == pivot:\n",
    "                equal.append(a)\n",
    "            elif a > pivot:\n",
    "                greater.append(a)\n",
    "        return quickSort(smaller)+equal+quickSort(greater)\n",
    "    else:\n",
    "        return array"
   ]
  },
  {
   "cell_type": "code",
   "execution_count": 8,
   "metadata": {},
   "outputs": [
    {
     "name": "stdout",
     "output_type": "stream",
     "text": [
      "[1, 5, 7, 8]\n"
     ]
    }
   ],
   "source": [
    "array = [7,5,8,1] \n",
    "array = quickSort(array)\n",
    "print(array) # das sortierte array\n",
    "# Zu Aufgabe 2:\n",
    "# Die Laufzeit des Algorithmus ist unter anderem auch abhängig durch die Wahl des Pivot-Elements. Durch\n",
    "# dieses wird in jedem Rekursionsschritt die zu sortierende Liste aufgeteilt. Um einen besonders schnellen\n",
    "# Algorithmus zu haben möchte man, dass in jedem Rekursionsschritt die gegebene Liste in möglichst gleich\n",
    "# große größer/kleiner Sublisten aufgeteilt wird, damit man insgesamt weniger Rekursionsschritte hat.\n",
    "# Dafür ist alleine das Pivot-Element verantwortlich.\n",
    "# Bie dieser Implementierung wird ein zufälliges Element der gegebenen Liste immer als\n",
    "# Pivot-Element gewählt.\n",
    "#Zu Aufgabe 3:\n",
    "# QuickSort-Worst-Case:\n",
    "# Dadurch, dass das Pivot-Element zufällig gewählt wird gibt ist die einzige worst case\n",
    "# Eingabe jene, die sich in jedem Element unterscheidet und somit immer nur ein Element in\n",
    "# der equal-Liste pro Rekursion landet.\n",
    "# SelectionSort:\n",
    "# Die Worst-case Eingabe ist eine genau falschrum sortierte Liste. Da dort immer durch die\n",
    "# ganze Liste gegangen werden muss um ein Element zu finden welches in die result liste\n",
    "# eingefügt werden kann."
   ]
  },
  {
   "cell_type": "markdown",
   "metadata": {},
   "source": [
    "#### 4. Testen Sie die Korrektheit Ihrer Implementierungen anhand von verschiedenen TestfÃ¤llen"
   ]
  },
  {
   "cell_type": "code",
   "execution_count": 9,
   "metadata": {},
   "outputs": [],
   "source": [
    "# Hier kommen die TestfÃ¤lle!\n",
    "test1 = [1,1,1,1,1,1,1,1]\n",
    "test2 = [9,8,7,6,5,4,3,2,1]\n"
   ]
  },
  {
   "cell_type": "markdown",
   "metadata": {},
   "source": [
    "#### 5. Messen Sie die Laufzeit der beiden Sortieralgorithmen auf Ihrem Rechner."
   ]
  },
  {
   "cell_type": "code",
   "execution_count": 10,
   "metadata": {
    "tags": []
   },
   "outputs": [
    {
     "name": "stdout",
     "output_type": "stream",
     "text": [
      "selectionSort Werte:\n",
      "0.0\n",
      "0.0\n",
      "0.005523681640625\n",
      "0.012981176376342773\n",
      "0.03146767616271973\n",
      "0.07487344741821289\n",
      "0.11225438117980957\n",
      "0.09557652473449707\n",
      "0.30013132095336914\n",
      "0.8193230628967285\n",
      "1.4390537738800049\n",
      "quickSort Werte:\n",
      "0.0\n",
      "0.0\n",
      "0.0010044574737548828\n",
      "0.0026023387908935547\n",
      "0.004254817962646484\n",
      "0.004939079284667969\n",
      "0.004710197448730469\n",
      "0.00667881965637207\n",
      "0.010604619979858398\n",
      "0.013515710830688477\n",
      "0.020116090774536133\n"
     ]
    }
   ],
   "source": [
    "s_times, q_times = [], []\n",
    "arrar_sizes =  [10, 100, 500, 1000, 1500, 2000, 2500, 3000, 5000, 7500, 10000] # messung fÃ¼r verschiedenen array-lÃ¤ngen\n",
    "for size in arrar_sizes:\n",
    "    # ziehe ein zufÃ¤lliges array\n",
    "    np.random.seed(0)\n",
    "    array = np.random.randint(low=0, high=1000000, size=size).tolist()\n",
    "\n",
    "    start = time.time()\n",
    "    selectionSort(array) #sortieren des Arrays\n",
    "    end = time.time()\n",
    "    s_times.append(end-start) # die zeit in sekunden\n",
    "\n",
    "    np.random.seed(0)\n",
    "    array = np.random.randint(low=0, high=1000000, size=size)\n",
    "    qstart = time.time()\n",
    "    quickSort(array) #sortieren des Array\n",
    "    qend = time.time()\n",
    "    q_times.append(qend - qstart)\n",
    "print(\"selectionSort Werte:\")\n",
    "for elem in s_times:\n",
    "    print(elem)\n",
    "\n",
    "print(\"quickSort Werte:\")\n",
    "for elem in q_times:\n",
    "    print(elem)\n",
    "\n",
    "    # und dann jetzt noch fÃ¼r quicksort :)"
   ]
  },
  {
   "cell_type": "markdown",
   "metadata": {},
   "source": [
    "#### 6. Erstellen Sie einen geeignent Plot, der die Laufzeit der beiden Algorithmen in AbhÃ¤ngigkeit von der EingabelÃ¤nge darstellt"
   ]
  },
  {
   "cell_type": "code",
   "execution_count": 11,
   "metadata": {},
   "outputs": [
    {
     "data": {
      "text/plain": "<AxesSubplot: >"
     },
     "execution_count": 11,
     "metadata": {},
     "output_type": "execute_result"
    },
    {
     "data": {
      "text/plain": "<Figure size 640x480 with 1 Axes>",
      "image/png": "[encoded data removed]"
     },
     "metadata": {},
     "output_type": "display_data"
    }
   ],
   "source": [
    "# Java QuickSort (NotInPlace) in Millisekunden [0.001, 0.001, 0.003, 0.004, 0.003, 0.004, 0.005, 0.006,\n",
    "    # 0.006, 0.012, 0.013]\n",
    "# Hier kommet der Plot! (69 nice)\n",
    "# Ja stimmt, aber dafür müssen wir erstmal C berechnen\n",
    "def computeC(time_list, size_list,func):\n",
    "     length = len(time_list)\n",
    "     iterator = range(length)\n",
    "     plus = 0\n",
    "     for i in iterator:\n",
    "      plus +=  time_list[i]/func(size_list[i]) #wir berechnen C in dem wir die tatsächliche Zeit durch die Worstcase Operationen teilen und dann den Durchschnitt berechnen\n",
    "     plus = plus/length\n",
    "     return plus\n",
    "\n",
    "cselec = computeC(s_times,arrar_sizes, lambda x : x**2)\n",
    "cquick = computeC(q_times,arrar_sizes, lambda x : x* math.log2(x))\n",
    "\n",
    "sns.lineplot(x = arrar_sizes, y= s_times, linestyle = \"dashed\", marker = \"o\")\n",
    "\n",
    "\n",
    "\n"
   ]
  },
  {
   "cell_type": "markdown",
   "metadata": {
    "tags": []
   },
   "source": [
    "#### 7. Erstellen Sie fÃ¼r die beiden Sortieralgorithmen jeweils einen Plot, in dem gemessene Laufzeit durch die entsprechende asymptotische Laufzeitentwicklung approximiert wird."
   ]
  },
  {
   "cell_type": "code",
   "execution_count": 12,
   "metadata": {},
   "outputs": [],
   "source": [
    "# Hier kommen die Plots!"
   ]
  },
  {
   "cell_type": "markdown",
   "metadata": {},
   "source": [
    "#### 8. Vergleichen Sie die Laufzeit ihrer effizienten Implementierungen mit der Laufzeit der nativen sort() Funktion fÃ¼r Listen in Python"
   ]
  },
  {
   "cell_type": "code",
   "execution_count": 13,
   "metadata": {},
   "outputs": [],
   "source": [
    "# Hier kommt eure Laufzeitanalyse!"
   ]
  }
 ],
 "metadata": {
  "kernelspec": {
   "display_name": "Python 3 (ipykernel)",
   "language": "python",
   "name": "python3"
  },
  "language_info": {
   "codemirror_mode": {
    "name": "ipython",
    "version": 3
   },
   "file_extension": ".py",
   "mimetype": "text/x-python",
   "name": "python",
   "nbconvert_exporter": "python",
   "pygments_lexer": "ipython3",
   "version": "3.9.13"
  }
 },
 "nbformat": 4,
 "nbformat_minor": 4
}
